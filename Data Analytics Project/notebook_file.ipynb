{
  "nbformat": 4,
  "nbformat_minor": 0,
  "metadata": {
    "colab": {
      "provenance": []
    },
    "kernelspec": {
      "name": "python3",
      "display_name": "Python 3"
    },
    "language_info": {
      "name": "python"
    }
  },
  "cells": [
    {
      "cell_type": "markdown",
      "source": [
        "Importing the required libraries"
      ],
      "metadata": {
        "id": "7VUOIJolJ04y"
      }
    },
    {
      "cell_type": "code",
      "execution_count": 1,
      "metadata": {
        "id": "W5iAmL4qHiYO"
      },
      "outputs": [],
      "source": [
        "# IMPORTING LIBRARIES\n",
        "import pandas as pd # importing pandas\n",
        "import numpy as np # importing numpy\n",
        "import matplotlib.pyplot as plt # importing pyplot from matplotlib\n",
        "import math # importing math library"
      ]
    },
    {
      "cell_type": "markdown",
      "source": [
        "Reading the csv file"
      ],
      "metadata": {
        "id": "mjSKVsd3J8g3"
      }
    },
    {
      "cell_type": "code",
      "source": [
        "# reading the csv file and converting it into a DataFrame\n",
        "saldf = pd.read_csv(\"DataScienceSalaries.csv\")\n",
        "# saldf"
      ],
      "metadata": {
        "id": "KYE6uXXkRdeU"
      },
      "execution_count": 2,
      "outputs": []
    },
    {
      "cell_type": "markdown",
      "source": [
        "# Data Preparation"
      ],
      "metadata": {
        "id": "SDKIk6ECKAzV"
      }
    },
    {
      "cell_type": "markdown",
      "source": [
        "Removing the 'salary' and 'salary_currency' columns"
      ],
      "metadata": {
        "id": "aJqkmaI-Dncb"
      }
    },
    {
      "cell_type": "code",
      "source": [
        "### DATA PREPARATION ###\n",
        "\n",
        "# removing the 'salary' and 'salary_currency' columns\n",
        "saldf.drop(columns = [\"salary\",\"salary_currency\"], inplace=True)\n",
        "# saldf"
      ],
      "metadata": {
        "id": "JA86ranCJPfm"
      },
      "execution_count": 3,
      "outputs": []
    },
    {
      "cell_type": "markdown",
      "source": [
        "Removing NaN Values"
      ],
      "metadata": {
        "id": "0ryqiRlHDuS1"
      }
    },
    {
      "cell_type": "code",
      "source": [
        "# removing NaN values\n",
        "saldf.dropna(inplace=True)\n",
        "# saldf"
      ],
      "metadata": {
        "id": "_FQsBN6OJ4cp"
      },
      "execution_count": 4,
      "outputs": []
    },
    {
      "cell_type": "markdown",
      "source": [
        "Checking for duplicate values in the DataFrame"
      ],
      "metadata": {
        "id": "el0pcb0VDxR0"
      }
    },
    {
      "cell_type": "code",
      "source": [
        "# checking for duplicate values in the DataFrame\n",
        "saldf.duplicated()"
      ],
      "metadata": {
        "id": "ggwmmZAHKqPq",
        "colab": {
          "base_uri": "https://localhost:8080/"
        },
        "outputId": "aacddee5-6980-46b3-c1f9-f034fc2e8589"
      },
      "execution_count": 5,
      "outputs": [
        {
          "output_type": "execute_result",
          "data": {
            "text/plain": [
              "0       False\n",
              "1       False\n",
              "2       False\n",
              "3       False\n",
              "4       False\n",
              "        ...  \n",
              "3750    False\n",
              "3751    False\n",
              "3752    False\n",
              "3753    False\n",
              "3754    False\n",
              "Length: 3755, dtype: bool"
            ]
          },
          "metadata": {},
          "execution_count": 5
        }
      ]
    },
    {
      "cell_type": "markdown",
      "source": [
        "Checking for unique values in all columns of the DataFrame"
      ],
      "metadata": {
        "id": "RNcuUIdyD5bn"
      }
    },
    {
      "cell_type": "code",
      "source": [
        "# checking for unique values in all columns of the DataFrame\n",
        "\n",
        "for col in saldf:\n",
        "    if (saldf[col].dtype == 'object'):\n",
        "        print(saldf[col].unique(), '\\n')\n"
      ],
      "metadata": {
        "id": "mpM9sZAdLJTL",
        "colab": {
          "base_uri": "https://localhost:8080/"
        },
        "outputId": "2ee8a14f-7198-4346-96d4-26725f438cd8"
      },
      "execution_count": 6,
      "outputs": [
        {
          "output_type": "stream",
          "name": "stdout",
          "text": [
            "['SE' 'MI' 'EN' 'EX'] \n",
            "\n",
            "['FT' 'CT' 'FL' 'PT'] \n",
            "\n",
            "['Principal Data Scientist' 'ML Engineer' 'Data Scientist'\n",
            " 'Applied Scientist' 'Data Analyst' 'Data Modeler' 'Research Engineer'\n",
            " 'Analytics Engineer' 'Business Intelligence Engineer'\n",
            " 'Machine Learning Engineer' 'Data Strategist' 'Data Engineer'\n",
            " 'Computer Vision Engineer' 'Data Quality Analyst'\n",
            " 'Compliance Data Analyst' 'Data Architect'\n",
            " 'Applied Machine Learning Engineer' 'AI Developer' 'Research Scientist'\n",
            " 'Data Analytics Manager' 'Business Data Analyst' 'Applied Data Scientist'\n",
            " 'Staff Data Analyst' 'ETL Engineer' 'Data DevOps Engineer' 'Head of Data'\n",
            " 'Data Science Manager' 'Data Manager' 'Machine Learning Researcher'\n",
            " 'Big Data Engineer' 'Data Specialist' 'Lead Data Analyst'\n",
            " 'BI Data Engineer' 'Director of Data Science'\n",
            " 'Machine Learning Scientist' 'MLOps Engineer' 'AI Scientist'\n",
            " 'Autonomous Vehicle Technician' 'Applied Machine Learning Scientist'\n",
            " 'Lead Data Scientist' 'Cloud Database Engineer' 'Financial Data Analyst'\n",
            " 'Data Infrastructure Engineer' 'Software Data Engineer' 'AI Programmer'\n",
            " 'Data Operations Engineer' 'BI Developer' 'Data Science Lead'\n",
            " 'Deep Learning Researcher' 'BI Analyst' 'Data Science Consultant'\n",
            " 'Data Analytics Specialist' 'Machine Learning Infrastructure Engineer'\n",
            " 'BI Data Analyst' 'Head of Data Science' 'Insight Analyst'\n",
            " 'Deep Learning Engineer' 'Machine Learning Software Engineer'\n",
            " 'Big Data Architect' 'Product Data Analyst'\n",
            " 'Computer Vision Software Engineer' 'Azure Data Engineer'\n",
            " 'Marketing Data Engineer' 'Data Analytics Lead' 'Data Lead'\n",
            " 'Data Science Engineer' 'Machine Learning Research Engineer'\n",
            " 'NLP Engineer' 'Manager Data Management' 'Machine Learning Developer'\n",
            " '3D Computer Vision Researcher' 'Principal Machine Learning Engineer'\n",
            " 'Data Analytics Engineer' 'Data Analytics Consultant'\n",
            " 'Data Management Specialist' 'Data Science Tech Lead'\n",
            " 'Data Scientist Lead' 'Cloud Data Engineer' 'Data Operations Analyst'\n",
            " 'Marketing Data Analyst' 'Power BI Developer' 'Product Data Scientist'\n",
            " 'Principal Data Architect' 'Machine Learning Manager'\n",
            " 'Lead Machine Learning Engineer' 'ETL Developer' 'Cloud Data Architect'\n",
            " 'Lead Data Engineer' 'Head of Machine Learning' 'Principal Data Analyst'\n",
            " 'Principal Data Engineer' 'Staff Data Scientist' 'Finance Data Analyst'] \n",
            "\n",
            "['ES' 'US' 'CA' 'DE' 'GB' 'NG' 'IN' 'HK' 'PT' 'NL' 'CH' 'CF' 'FR' 'AU'\n",
            " 'FI' 'UA' 'IE' 'IL' 'GH' 'AT' 'CO' 'SG' 'SE' 'SI' 'MX' 'UZ' 'BR' 'TH'\n",
            " 'HR' 'PL' 'KW' 'VN' 'CY' 'AR' 'AM' 'BA' 'KE' 'GR' 'MK' 'LV' 'RO' 'PK'\n",
            " 'IT' 'MA' 'LT' 'BE' 'AS' 'IR' 'HU' 'SK' 'CN' 'CZ' 'CR' 'TR' 'CL' 'PR'\n",
            " 'DK' 'BO' 'PH' 'DO' 'EG' 'ID' 'AE' 'MY' 'JP' 'EE' 'HN' 'TN' 'RU' 'DZ'\n",
            " 'IQ' 'BG' 'JE' 'RS' 'NZ' 'MD' 'LU' 'MT'] \n",
            "\n",
            "['ES' 'US' 'CA' 'DE' 'GB' 'NG' 'IN' 'HK' 'NL' 'CH' 'CF' 'FR' 'FI' 'UA'\n",
            " 'IE' 'IL' 'GH' 'CO' 'SG' 'AU' 'SE' 'SI' 'MX' 'BR' 'PT' 'RU' 'TH' 'HR'\n",
            " 'VN' 'EE' 'AM' 'BA' 'KE' 'GR' 'MK' 'LV' 'RO' 'PK' 'IT' 'MA' 'PL' 'AL'\n",
            " 'AR' 'LT' 'AS' 'CR' 'IR' 'BS' 'HU' 'AT' 'SK' 'CZ' 'TR' 'PR' 'DK' 'BO'\n",
            " 'PH' 'BE' 'ID' 'EG' 'AE' 'LU' 'MY' 'HN' 'JP' 'DZ' 'IQ' 'CN' 'NZ' 'CL'\n",
            " 'MD' 'MT'] \n",
            "\n",
            "['L' 'S' 'M'] \n",
            "\n"
          ]
        }
      ]
    },
    {
      "cell_type": "markdown",
      "source": [
        "Renaming the three experience level values"
      ],
      "metadata": {
        "id": "ptyiHpmfD_lt"
      }
    },
    {
      "cell_type": "code",
      "source": [
        "# renaming the three experience level values\n",
        "saldf[\"experience_level\"] = saldf[\"experience_level\"].replace([\"SE\",\"MI\",\"EN\",\"EX\"], [\"Senior Level/Expert\",\"Medium Level/Intermediate\",\"Entry Level\",\"Executive Level\"])\n",
        "saldf"
      ],
      "metadata": {
        "id": "X_fLPn39No01",
        "colab": {
          "base_uri": "https://localhost:8080/",
          "height": 424
        },
        "outputId": "267db80a-4b4a-4158-9fdf-6593bf15d86c"
      },
      "execution_count": 7,
      "outputs": [
        {
          "output_type": "execute_result",
          "data": {
            "text/plain": [
              "      work_year           experience_level employment_type  \\\n",
              "0          2023        Senior Level/Expert              FT   \n",
              "1          2023  Medium Level/Intermediate              CT   \n",
              "2          2023  Medium Level/Intermediate              CT   \n",
              "3          2023        Senior Level/Expert              FT   \n",
              "4          2023        Senior Level/Expert              FT   \n",
              "...         ...                        ...             ...   \n",
              "3750       2020        Senior Level/Expert              FT   \n",
              "3751       2021  Medium Level/Intermediate              FT   \n",
              "3752       2020                Entry Level              FT   \n",
              "3753       2020                Entry Level              CT   \n",
              "3754       2021        Senior Level/Expert              FT   \n",
              "\n",
              "                     job_title  salary_in_usd employee_residence  \\\n",
              "0     Principal Data Scientist          85847                 ES   \n",
              "1                  ML Engineer          30000                 US   \n",
              "2                  ML Engineer          25500                 US   \n",
              "3               Data Scientist         175000                 CA   \n",
              "4               Data Scientist         120000                 CA   \n",
              "...                        ...            ...                ...   \n",
              "3750            Data Scientist         412000                 US   \n",
              "3751  Principal Data Scientist         151000                 US   \n",
              "3752            Data Scientist         105000                 US   \n",
              "3753     Business Data Analyst         100000                 US   \n",
              "3754      Data Science Manager          94665                 IN   \n",
              "\n",
              "      remote_ratio company_location company_size  \n",
              "0              100               ES            L  \n",
              "1              100               US            S  \n",
              "2              100               US            S  \n",
              "3              100               CA            M  \n",
              "4              100               CA            M  \n",
              "...            ...              ...          ...  \n",
              "3750           100               US            L  \n",
              "3751           100               US            L  \n",
              "3752           100               US            S  \n",
              "3753           100               US            L  \n",
              "3754            50               IN            L  \n",
              "\n",
              "[3755 rows x 9 columns]"
            ],
            "text/html": [
              "\n",
              "  <div id=\"df-4cefe273-6e1e-47b0-8f10-ba1497288cbd\" class=\"colab-df-container\">\n",
              "    <div>\n",
              "<style scoped>\n",
              "    .dataframe tbody tr th:only-of-type {\n",
              "        vertical-align: middle;\n",
              "    }\n",
              "\n",
              "    .dataframe tbody tr th {\n",
              "        vertical-align: top;\n",
              "    }\n",
              "\n",
              "    .dataframe thead th {\n",
              "        text-align: right;\n",
              "    }\n",
              "</style>\n",
              "<table border=\"1\" class=\"dataframe\">\n",
              "  <thead>\n",
              "    <tr style=\"text-align: right;\">\n",
              "      <th></th>\n",
              "      <th>work_year</th>\n",
              "      <th>experience_level</th>\n",
              "      <th>employment_type</th>\n",
              "      <th>job_title</th>\n",
              "      <th>salary_in_usd</th>\n",
              "      <th>employee_residence</th>\n",
              "      <th>remote_ratio</th>\n",
              "      <th>company_location</th>\n",
              "      <th>company_size</th>\n",
              "    </tr>\n",
              "  </thead>\n",
              "  <tbody>\n",
              "    <tr>\n",
              "      <th>0</th>\n",
              "      <td>2023</td>\n",
              "      <td>Senior Level/Expert</td>\n",
              "      <td>FT</td>\n",
              "      <td>Principal Data Scientist</td>\n",
              "      <td>85847</td>\n",
              "      <td>ES</td>\n",
              "      <td>100</td>\n",
              "      <td>ES</td>\n",
              "      <td>L</td>\n",
              "    </tr>\n",
              "    <tr>\n",
              "      <th>1</th>\n",
              "      <td>2023</td>\n",
              "      <td>Medium Level/Intermediate</td>\n",
              "      <td>CT</td>\n",
              "      <td>ML Engineer</td>\n",
              "      <td>30000</td>\n",
              "      <td>US</td>\n",
              "      <td>100</td>\n",
              "      <td>US</td>\n",
              "      <td>S</td>\n",
              "    </tr>\n",
              "    <tr>\n",
              "      <th>2</th>\n",
              "      <td>2023</td>\n",
              "      <td>Medium Level/Intermediate</td>\n",
              "      <td>CT</td>\n",
              "      <td>ML Engineer</td>\n",
              "      <td>25500</td>\n",
              "      <td>US</td>\n",
              "      <td>100</td>\n",
              "      <td>US</td>\n",
              "      <td>S</td>\n",
              "    </tr>\n",
              "    <tr>\n",
              "      <th>3</th>\n",
              "      <td>2023</td>\n",
              "      <td>Senior Level/Expert</td>\n",
              "      <td>FT</td>\n",
              "      <td>Data Scientist</td>\n",
              "      <td>175000</td>\n",
              "      <td>CA</td>\n",
              "      <td>100</td>\n",
              "      <td>CA</td>\n",
              "      <td>M</td>\n",
              "    </tr>\n",
              "    <tr>\n",
              "      <th>4</th>\n",
              "      <td>2023</td>\n",
              "      <td>Senior Level/Expert</td>\n",
              "      <td>FT</td>\n",
              "      <td>Data Scientist</td>\n",
              "      <td>120000</td>\n",
              "      <td>CA</td>\n",
              "      <td>100</td>\n",
              "      <td>CA</td>\n",
              "      <td>M</td>\n",
              "    </tr>\n",
              "    <tr>\n",
              "      <th>...</th>\n",
              "      <td>...</td>\n",
              "      <td>...</td>\n",
              "      <td>...</td>\n",
              "      <td>...</td>\n",
              "      <td>...</td>\n",
              "      <td>...</td>\n",
              "      <td>...</td>\n",
              "      <td>...</td>\n",
              "      <td>...</td>\n",
              "    </tr>\n",
              "    <tr>\n",
              "      <th>3750</th>\n",
              "      <td>2020</td>\n",
              "      <td>Senior Level/Expert</td>\n",
              "      <td>FT</td>\n",
              "      <td>Data Scientist</td>\n",
              "      <td>412000</td>\n",
              "      <td>US</td>\n",
              "      <td>100</td>\n",
              "      <td>US</td>\n",
              "      <td>L</td>\n",
              "    </tr>\n",
              "    <tr>\n",
              "      <th>3751</th>\n",
              "      <td>2021</td>\n",
              "      <td>Medium Level/Intermediate</td>\n",
              "      <td>FT</td>\n",
              "      <td>Principal Data Scientist</td>\n",
              "      <td>151000</td>\n",
              "      <td>US</td>\n",
              "      <td>100</td>\n",
              "      <td>US</td>\n",
              "      <td>L</td>\n",
              "    </tr>\n",
              "    <tr>\n",
              "      <th>3752</th>\n",
              "      <td>2020</td>\n",
              "      <td>Entry Level</td>\n",
              "      <td>FT</td>\n",
              "      <td>Data Scientist</td>\n",
              "      <td>105000</td>\n",
              "      <td>US</td>\n",
              "      <td>100</td>\n",
              "      <td>US</td>\n",
              "      <td>S</td>\n",
              "    </tr>\n",
              "    <tr>\n",
              "      <th>3753</th>\n",
              "      <td>2020</td>\n",
              "      <td>Entry Level</td>\n",
              "      <td>CT</td>\n",
              "      <td>Business Data Analyst</td>\n",
              "      <td>100000</td>\n",
              "      <td>US</td>\n",
              "      <td>100</td>\n",
              "      <td>US</td>\n",
              "      <td>L</td>\n",
              "    </tr>\n",
              "    <tr>\n",
              "      <th>3754</th>\n",
              "      <td>2021</td>\n",
              "      <td>Senior Level/Expert</td>\n",
              "      <td>FT</td>\n",
              "      <td>Data Science Manager</td>\n",
              "      <td>94665</td>\n",
              "      <td>IN</td>\n",
              "      <td>50</td>\n",
              "      <td>IN</td>\n",
              "      <td>L</td>\n",
              "    </tr>\n",
              "  </tbody>\n",
              "</table>\n",
              "<p>3755 rows × 9 columns</p>\n",
              "</div>\n",
              "    <div class=\"colab-df-buttons\">\n",
              "\n",
              "  <div class=\"colab-df-container\">\n",
              "    <button class=\"colab-df-convert\" onclick=\"convertToInteractive('df-4cefe273-6e1e-47b0-8f10-ba1497288cbd')\"\n",
              "            title=\"Convert this dataframe to an interactive table.\"\n",
              "            style=\"display:none;\">\n",
              "\n",
              "  <svg xmlns=\"http://www.w3.org/2000/svg\" height=\"24px\" viewBox=\"0 -960 960 960\">\n",
              "    <path d=\"M120-120v-720h720v720H120Zm60-500h600v-160H180v160Zm220 220h160v-160H400v160Zm0 220h160v-160H400v160ZM180-400h160v-160H180v160Zm440 0h160v-160H620v160ZM180-180h160v-160H180v160Zm440 0h160v-160H620v160Z\"/>\n",
              "  </svg>\n",
              "    </button>\n",
              "\n",
              "  <style>\n",
              "    .colab-df-container {\n",
              "      display:flex;\n",
              "      gap: 12px;\n",
              "    }\n",
              "\n",
              "    .colab-df-convert {\n",
              "      background-color: #E8F0FE;\n",
              "      border: none;\n",
              "      border-radius: 50%;\n",
              "      cursor: pointer;\n",
              "      display: none;\n",
              "      fill: #1967D2;\n",
              "      height: 32px;\n",
              "      padding: 0 0 0 0;\n",
              "      width: 32px;\n",
              "    }\n",
              "\n",
              "    .colab-df-convert:hover {\n",
              "      background-color: #E2EBFA;\n",
              "      box-shadow: 0px 1px 2px rgba(60, 64, 67, 0.3), 0px 1px 3px 1px rgba(60, 64, 67, 0.15);\n",
              "      fill: #174EA6;\n",
              "    }\n",
              "\n",
              "    .colab-df-buttons div {\n",
              "      margin-bottom: 4px;\n",
              "    }\n",
              "\n",
              "    [theme=dark] .colab-df-convert {\n",
              "      background-color: #3B4455;\n",
              "      fill: #D2E3FC;\n",
              "    }\n",
              "\n",
              "    [theme=dark] .colab-df-convert:hover {\n",
              "      background-color: #434B5C;\n",
              "      box-shadow: 0px 1px 3px 1px rgba(0, 0, 0, 0.15);\n",
              "      filter: drop-shadow(0px 1px 2px rgba(0, 0, 0, 0.3));\n",
              "      fill: #FFFFFF;\n",
              "    }\n",
              "  </style>\n",
              "\n",
              "    <script>\n",
              "      const buttonEl =\n",
              "        document.querySelector('#df-4cefe273-6e1e-47b0-8f10-ba1497288cbd button.colab-df-convert');\n",
              "      buttonEl.style.display =\n",
              "        google.colab.kernel.accessAllowed ? 'block' : 'none';\n",
              "\n",
              "      async function convertToInteractive(key) {\n",
              "        const element = document.querySelector('#df-4cefe273-6e1e-47b0-8f10-ba1497288cbd');\n",
              "        const dataTable =\n",
              "          await google.colab.kernel.invokeFunction('convertToInteractive',\n",
              "                                                    [key], {});\n",
              "        if (!dataTable) return;\n",
              "\n",
              "        const docLinkHtml = 'Like what you see? Visit the ' +\n",
              "          '<a target=\"_blank\" href=https://colab.research.google.com/notebooks/data_table.ipynb>data table notebook</a>'\n",
              "          + ' to learn more about interactive tables.';\n",
              "        element.innerHTML = '';\n",
              "        dataTable['output_type'] = 'display_data';\n",
              "        await google.colab.output.renderOutput(dataTable, element);\n",
              "        const docLink = document.createElement('div');\n",
              "        docLink.innerHTML = docLinkHtml;\n",
              "        element.appendChild(docLink);\n",
              "      }\n",
              "    </script>\n",
              "  </div>\n",
              "\n",
              "\n",
              "<div id=\"df-23e9e462-82d9-4790-8d8d-ba9920404e9f\">\n",
              "  <button class=\"colab-df-quickchart\" onclick=\"quickchart('df-23e9e462-82d9-4790-8d8d-ba9920404e9f')\"\n",
              "            title=\"Suggest charts\"\n",
              "            style=\"display:none;\">\n",
              "\n",
              "<svg xmlns=\"http://www.w3.org/2000/svg\" height=\"24px\"viewBox=\"0 0 24 24\"\n",
              "     width=\"24px\">\n",
              "    <g>\n",
              "        <path d=\"M19 3H5c-1.1 0-2 .9-2 2v14c0 1.1.9 2 2 2h14c1.1 0 2-.9 2-2V5c0-1.1-.9-2-2-2zM9 17H7v-7h2v7zm4 0h-2V7h2v10zm4 0h-2v-4h2v4z\"/>\n",
              "    </g>\n",
              "</svg>\n",
              "  </button>\n",
              "\n",
              "<style>\n",
              "  .colab-df-quickchart {\n",
              "      --bg-color: #E8F0FE;\n",
              "      --fill-color: #1967D2;\n",
              "      --hover-bg-color: #E2EBFA;\n",
              "      --hover-fill-color: #174EA6;\n",
              "      --disabled-fill-color: #AAA;\n",
              "      --disabled-bg-color: #DDD;\n",
              "  }\n",
              "\n",
              "  [theme=dark] .colab-df-quickchart {\n",
              "      --bg-color: #3B4455;\n",
              "      --fill-color: #D2E3FC;\n",
              "      --hover-bg-color: #434B5C;\n",
              "      --hover-fill-color: #FFFFFF;\n",
              "      --disabled-bg-color: #3B4455;\n",
              "      --disabled-fill-color: #666;\n",
              "  }\n",
              "\n",
              "  .colab-df-quickchart {\n",
              "    background-color: var(--bg-color);\n",
              "    border: none;\n",
              "    border-radius: 50%;\n",
              "    cursor: pointer;\n",
              "    display: none;\n",
              "    fill: var(--fill-color);\n",
              "    height: 32px;\n",
              "    padding: 0;\n",
              "    width: 32px;\n",
              "  }\n",
              "\n",
              "  .colab-df-quickchart:hover {\n",
              "    background-color: var(--hover-bg-color);\n",
              "    box-shadow: 0 1px 2px rgba(60, 64, 67, 0.3), 0 1px 3px 1px rgba(60, 64, 67, 0.15);\n",
              "    fill: var(--button-hover-fill-color);\n",
              "  }\n",
              "\n",
              "  .colab-df-quickchart-complete:disabled,\n",
              "  .colab-df-quickchart-complete:disabled:hover {\n",
              "    background-color: var(--disabled-bg-color);\n",
              "    fill: var(--disabled-fill-color);\n",
              "    box-shadow: none;\n",
              "  }\n",
              "\n",
              "  .colab-df-spinner {\n",
              "    border: 2px solid var(--fill-color);\n",
              "    border-color: transparent;\n",
              "    border-bottom-color: var(--fill-color);\n",
              "    animation:\n",
              "      spin 1s steps(1) infinite;\n",
              "  }\n",
              "\n",
              "  @keyframes spin {\n",
              "    0% {\n",
              "      border-color: transparent;\n",
              "      border-bottom-color: var(--fill-color);\n",
              "      border-left-color: var(--fill-color);\n",
              "    }\n",
              "    20% {\n",
              "      border-color: transparent;\n",
              "      border-left-color: var(--fill-color);\n",
              "      border-top-color: var(--fill-color);\n",
              "    }\n",
              "    30% {\n",
              "      border-color: transparent;\n",
              "      border-left-color: var(--fill-color);\n",
              "      border-top-color: var(--fill-color);\n",
              "      border-right-color: var(--fill-color);\n",
              "    }\n",
              "    40% {\n",
              "      border-color: transparent;\n",
              "      border-right-color: var(--fill-color);\n",
              "      border-top-color: var(--fill-color);\n",
              "    }\n",
              "    60% {\n",
              "      border-color: transparent;\n",
              "      border-right-color: var(--fill-color);\n",
              "    }\n",
              "    80% {\n",
              "      border-color: transparent;\n",
              "      border-right-color: var(--fill-color);\n",
              "      border-bottom-color: var(--fill-color);\n",
              "    }\n",
              "    90% {\n",
              "      border-color: transparent;\n",
              "      border-bottom-color: var(--fill-color);\n",
              "    }\n",
              "  }\n",
              "</style>\n",
              "\n",
              "  <script>\n",
              "    async function quickchart(key) {\n",
              "      const quickchartButtonEl =\n",
              "        document.querySelector('#' + key + ' button');\n",
              "      quickchartButtonEl.disabled = true;  // To prevent multiple clicks.\n",
              "      quickchartButtonEl.classList.add('colab-df-spinner');\n",
              "      try {\n",
              "        const charts = await google.colab.kernel.invokeFunction(\n",
              "            'suggestCharts', [key], {});\n",
              "      } catch (error) {\n",
              "        console.error('Error during call to suggestCharts:', error);\n",
              "      }\n",
              "      quickchartButtonEl.classList.remove('colab-df-spinner');\n",
              "      quickchartButtonEl.classList.add('colab-df-quickchart-complete');\n",
              "    }\n",
              "    (() => {\n",
              "      let quickchartButtonEl =\n",
              "        document.querySelector('#df-23e9e462-82d9-4790-8d8d-ba9920404e9f button');\n",
              "      quickchartButtonEl.style.display =\n",
              "        google.colab.kernel.accessAllowed ? 'block' : 'none';\n",
              "    })();\n",
              "  </script>\n",
              "</div>\n",
              "    </div>\n",
              "  </div>\n"
            ],
            "application/vnd.google.colaboratory.intrinsic+json": {
              "type": "dataframe",
              "variable_name": "saldf",
              "summary": "{\n  \"name\": \"saldf\",\n  \"rows\": 3755,\n  \"fields\": [\n    {\n      \"column\": \"work_year\",\n      \"properties\": {\n        \"dtype\": \"number\",\n        \"std\": 0,\n        \"min\": 2020,\n        \"max\": 2023,\n        \"num_unique_values\": 4,\n        \"samples\": [\n          2022,\n          2021,\n          2023\n        ],\n        \"semantic_type\": \"\",\n        \"description\": \"\"\n      }\n    },\n    {\n      \"column\": \"experience_level\",\n      \"properties\": {\n        \"dtype\": \"category\",\n        \"num_unique_values\": 4,\n        \"samples\": [\n          \"Medium Level/Intermediate\",\n          \"Executive Level\",\n          \"Senior Level/Expert\"\n        ],\n        \"semantic_type\": \"\",\n        \"description\": \"\"\n      }\n    },\n    {\n      \"column\": \"employment_type\",\n      \"properties\": {\n        \"dtype\": \"category\",\n        \"num_unique_values\": 4,\n        \"samples\": [\n          \"CT\",\n          \"PT\",\n          \"FT\"\n        ],\n        \"semantic_type\": \"\",\n        \"description\": \"\"\n      }\n    },\n    {\n      \"column\": \"job_title\",\n      \"properties\": {\n        \"dtype\": \"category\",\n        \"num_unique_values\": 93,\n        \"samples\": [\n          \"Cloud Database Engineer\",\n          \"Staff Data Analyst\",\n          \"Insight Analyst\"\n        ],\n        \"semantic_type\": \"\",\n        \"description\": \"\"\n      }\n    },\n    {\n      \"column\": \"salary_in_usd\",\n      \"properties\": {\n        \"dtype\": \"number\",\n        \"std\": 63055,\n        \"min\": 5132,\n        \"max\": 450000,\n        \"num_unique_values\": 1035,\n        \"samples\": [\n          205600,\n          375000,\n          140700\n        ],\n        \"semantic_type\": \"\",\n        \"description\": \"\"\n      }\n    },\n    {\n      \"column\": \"employee_residence\",\n      \"properties\": {\n        \"dtype\": \"category\",\n        \"num_unique_values\": 78,\n        \"samples\": [\n          \"AR\",\n          \"ES\",\n          \"AM\"\n        ],\n        \"semantic_type\": \"\",\n        \"description\": \"\"\n      }\n    },\n    {\n      \"column\": \"remote_ratio\",\n      \"properties\": {\n        \"dtype\": \"number\",\n        \"std\": 48,\n        \"min\": 0,\n        \"max\": 100,\n        \"num_unique_values\": 3,\n        \"samples\": [\n          100,\n          0,\n          50\n        ],\n        \"semantic_type\": \"\",\n        \"description\": \"\"\n      }\n    },\n    {\n      \"column\": \"company_location\",\n      \"properties\": {\n        \"dtype\": \"category\",\n        \"num_unique_values\": 72,\n        \"samples\": [\n          \"GB\",\n          \"MY\",\n          \"SG\"\n        ],\n        \"semantic_type\": \"\",\n        \"description\": \"\"\n      }\n    },\n    {\n      \"column\": \"company_size\",\n      \"properties\": {\n        \"dtype\": \"category\",\n        \"num_unique_values\": 3,\n        \"samples\": [\n          \"L\",\n          \"S\",\n          \"M\"\n        ],\n        \"semantic_type\": \"\",\n        \"description\": \"\"\n      }\n    }\n  ]\n}"
            }
          },
          "metadata": {},
          "execution_count": 7
        }
      ]
    },
    {
      "cell_type": "markdown",
      "source": [
        "# Data Analysis\n",
        "\n",
        "\n"
      ],
      "metadata": {
        "id": "x1nCj696KGFf"
      }
    },
    {
      "cell_type": "markdown",
      "source": [
        "Utility Functions"
      ],
      "metadata": {
        "id": "xsfN646yC0oV"
      }
    },
    {
      "cell_type": "code",
      "source": [
        "### UTILITY FUNCTIONS ###\n",
        "\n",
        "# defining a function to check if the entered column exists in the dataframe\n",
        "\n",
        "def col_exists(col):\n",
        "    \"\"\"\n",
        "    Purpose:\n",
        "        Checks if the argument column exists in the DataFrame\n",
        "\n",
        "    Parameters:\n",
        "        column\n",
        "\n",
        "    Returns:\n",
        "        boolean\n",
        "    \"\"\"\n",
        "\n",
        "    if col in saldf.columns: return True # returns True if the column exists\n",
        "    else: return False # returns False if the column does not exist\n",
        "\n",
        "# col1 = 'salary_in_usd'\n",
        "# col2 = 'salary'\n",
        "# col_exists(col1), col_exists(col2)"
      ],
      "metadata": {
        "id": "toXVANx2JYdE"
      },
      "execution_count": 8,
      "outputs": []
    },
    {
      "cell_type": "code",
      "source": [
        "# defining a function to check if the entered column is of int64 datatype\n",
        "\n",
        "def is_int64(col):\n",
        "    \"\"\"\n",
        "    Purpose:\n",
        "        Checks if the argument column is of int64 datatype\n",
        "\n",
        "    Parameters:\n",
        "        column\n",
        "\n",
        "    Returns:\n",
        "        boolean\n",
        "    \"\"\"\n",
        "\n",
        "    if saldf[col].dtype == 'int64': return True # returns True if the column is of int64 datatype\n",
        "    else: return False # returns False if the column is not of int64 datatype\n",
        "\n",
        "# col1 = 'salary_in_usd'\n",
        "# col2 = 'experience_level'\n",
        "# is_int64(col1), is_int64(col2)"
      ],
      "metadata": {
        "id": "ZStDT97vRdvZ"
      },
      "execution_count": 9,
      "outputs": []
    },
    {
      "cell_type": "code",
      "source": [
        "# defining a function to verify that the input column exists in the DataFrame and is numeric\n",
        "\n",
        "def verify_input_column(input_stmt):\n",
        "    \"\"\"\n",
        "    Purpose:\n",
        "        Checks if the user-input column exists and is of int64 datatype\n",
        "\n",
        "    Parameters:\n",
        "        input string\n",
        "\n",
        "    Returns:\n",
        "        column\n",
        "    \"\"\"\n",
        "\n",
        "    while True:\n",
        "        col = input(input_stmt) # taking input from the user\n",
        "\n",
        "        if(col_exists(col) and is_int64(col)): break # breaking the loop if the entered column exists and is numeric\n",
        "        else:\n",
        "            print(\"\\nPlease enter a column from among these ones:\") # printing error message if column does not exist\n",
        "\n",
        "            # printing out the numeric columns of the DataFrame for the user to choose from\n",
        "            for col in saldf.columns:\n",
        "                if saldf[col].dtype == 'int64': print(col)\n",
        "            print()\n",
        "\n",
        "    return col # returning the verified column\n",
        "\n",
        "\n",
        "# verify_input_column(\"Enter a column: \")"
      ],
      "metadata": {
        "id": "eLIgQreSRhca"
      },
      "execution_count": 10,
      "outputs": []
    },
    {
      "cell_type": "markdown",
      "source": [
        "Sum Functions"
      ],
      "metadata": {
        "id": "AeKWW9MvCx7N"
      }
    },
    {
      "cell_type": "code",
      "source": [
        "# defining functions to calculate the sum of all values in a column\n",
        "\n",
        "def calc_arg_sum(col):\n",
        "    \"\"\"\n",
        "    Purpose:\n",
        "        Calculates sum of all values of the argument numeric column of a DataFrame\n",
        "\n",
        "    Parameters:\n",
        "        a numeric column\n",
        "\n",
        "    Returns:\n",
        "        sum\n",
        "    \"\"\"\n",
        "\n",
        "    sum = 0 # summation of all values of col\n",
        "    for values in saldf[col]:\n",
        "        sum += values # sum of all values of col\n",
        "    return sum # returning the sum"
      ],
      "metadata": {
        "id": "isZFPOkfGKgM"
      },
      "execution_count": 11,
      "outputs": []
    },
    {
      "cell_type": "code",
      "source": [
        "def calc_sum():  # ENTRY FUNCTION\n",
        "    \"\"\"\n",
        "    Purpose:\n",
        "        Calculates sum of all values of a user-entered numeric column of a DataFrame\n",
        "\n",
        "    Parameters:\n",
        "        none\n",
        "\n",
        "    Returns:\n",
        "        sum\n",
        "    \"\"\"\n",
        "\n",
        "    # taking input column and verifying that it exists and is numeric\n",
        "    col = verify_input_column(\"Enter a column: \")\n",
        "    sum = calc_arg_sum(col) # calculating the sum\n",
        "    return sum # returning the sum"
      ],
      "metadata": {
        "id": "JJ66OdfNedmK"
      },
      "execution_count": 12,
      "outputs": []
    },
    {
      "cell_type": "code",
      "source": [
        "# col = 'salary_in_usd'\n",
        "\n",
        "# print(\"Sum:\", calc_sum()) # input-taking function\n",
        "# print(\"Sum:\", calc_arg_sum(col)) # argument-taking function\n",
        "# print(\"Sum:\", saldf[col].sum()) # built-in function"
      ],
      "metadata": {
        "id": "bvdPWqUVehTj"
      },
      "execution_count": 13,
      "outputs": []
    },
    {
      "cell_type": "markdown",
      "source": [
        "Mean Functions"
      ],
      "metadata": {
        "id": "JhTiaRcJCwrE"
      }
    },
    {
      "cell_type": "code",
      "source": [
        "# defining functions to calculate the mean of all values in a column\n",
        "\n",
        "def calc_arg_mean(col):\n",
        "    \"\"\"\n",
        "    Purpose:\n",
        "        Calculates mean value of the argument numeric column of a DataFrame\n",
        "\n",
        "    Parameters:\n",
        "        a numeric column\n",
        "\n",
        "    Returns:\n",
        "        mean\n",
        "    \"\"\"\n",
        "\n",
        "    col_sum = calc_arg_sum(col) # sum of all values of col\n",
        "    mean = col_sum/len(saldf[col]) # mean value of col\n",
        "    return mean # returning the mean value"
      ],
      "metadata": {
        "id": "78vs6SlRJbLV"
      },
      "execution_count": 14,
      "outputs": []
    },
    {
      "cell_type": "code",
      "source": [
        "def calc_mean():  # ENTRY FUNCTION\n",
        "    \"\"\"\n",
        "    Purpose:\n",
        "        Calculates mean value of a user-entered numeric column of a DataFrame\n",
        "\n",
        "    Parameters:\n",
        "        none\n",
        "\n",
        "    Returns:\n",
        "        mean\n",
        "    \"\"\"\n",
        "\n",
        "    # taking input column and verifying that it exists and is numeric\n",
        "    col = verify_input_column(\"Enter a column: \")\n",
        "    mean = calc_arg_mean(col) # calculating mean value\n",
        "    return mean # returning the mean value"
      ],
      "metadata": {
        "id": "VJMCIEDzfg_W"
      },
      "execution_count": 15,
      "outputs": []
    },
    {
      "cell_type": "code",
      "source": [
        "# col = 'salary_in_usd'\n",
        "\n",
        "# print(\"Mean:\", calc_mean()) # input-taking function\n",
        "# print(\"Mean:\", calc_arg_mean(col)) # argument-taking function\n",
        "# print(\"Mean:\", saldf[col].mean()) # built-in function"
      ],
      "metadata": {
        "id": "PSucHKg2fiYH"
      },
      "execution_count": 16,
      "outputs": []
    },
    {
      "cell_type": "markdown",
      "source": [
        "Median Functions"
      ],
      "metadata": {
        "id": "u0whyLrKCvkJ"
      }
    },
    {
      "cell_type": "code",
      "source": [
        "# defining a function to calculate the median of all values in a column\n",
        "\n",
        "def calc_arg_median(col):\n",
        "    \"\"\"\n",
        "    Purpose:\n",
        "        Calculates median value of the argument numeric column of a DataFrame\n",
        "\n",
        "    Parameters:\n",
        "        a numeric column\n",
        "\n",
        "    Returns:\n",
        "        median\n",
        "    \"\"\"\n",
        "\n",
        "    sorted_col = saldf[col].sort_values() # sorting the values of col in ascending order\n",
        "    median_index = 0 # index of the median value in col\n",
        "\n",
        "    # condition to check if col has an even or odd number of values\n",
        "    if len(sorted_col)%2 == 0: # if col has an even number of values\n",
        "        median_index = len(sorted_col)//2 # index of the median value is\n",
        "                                        # half of the number of values\n",
        "    else: # if col has an odd number of values\n",
        "        median_index = (len(sorted_col) + 1)//2 # index of the median value is\n",
        "                                            # half of one more than the number of values\n",
        "\n",
        "    # median value of col\n",
        "    median = sorted_col.iloc[median_index - 1] # subtracting 1 since indices start from 0\n",
        "    return median # returning the median value"
      ],
      "metadata": {
        "id": "HGJWxOAkKsTf"
      },
      "execution_count": 17,
      "outputs": []
    },
    {
      "cell_type": "code",
      "source": [
        "def calc_median(): # ENTRY FUNCTION\n",
        "    \"\"\"\n",
        "    Purpose:\n",
        "        Calculates median value of a user-entered numeric column of a DataFrame\n",
        "\n",
        "    Parameters:\n",
        "        none\n",
        "\n",
        "    Returns:\n",
        "        median\n",
        "    \"\"\"\n",
        "\n",
        "    # taking input column and verifying that it exists and is numeric\n",
        "    col = verify_input_column(\"Enter a column: \")\n",
        "    median = calc_arg_median(col) # calculating median value\n",
        "    return median # returns the median value"
      ],
      "metadata": {
        "id": "2TCrmwQphBnE"
      },
      "execution_count": 18,
      "outputs": []
    },
    {
      "cell_type": "code",
      "source": [
        "# col = 'salary_in_usd'\n",
        "\n",
        "# print(\"Median:\", calc_median()) # input-taking function\n",
        "# print(\"Median:\", calc_arg_median(col)) # argument-taking function\n",
        "# print(\"Median:\", saldf[col].median()) # built-in function"
      ],
      "metadata": {
        "id": "-DlCIXwnhCwZ"
      },
      "execution_count": 19,
      "outputs": []
    },
    {
      "cell_type": "markdown",
      "source": [
        "Standard Deviation Functions"
      ],
      "metadata": {
        "id": "bDTj-W8NCtPu"
      }
    },
    {
      "cell_type": "code",
      "source": [
        "# defining a function to calculate the standard deviation of all values in a column\n",
        "\n",
        "def calc_arg_stdev(col):\n",
        "    \"\"\"\n",
        "    Purpose:\n",
        "        Calculates standard deviation of the argument numeric column of a DataFrame\n",
        "\n",
        "    Parameters:\n",
        "        a numeric column\n",
        "\n",
        "    Returns:\n",
        "        standard deviation\n",
        "    \"\"\"\n",
        "\n",
        "    mean = calc_arg_mean(col) # mean value of col\n",
        "    sum_of_squared_diffs = 0 # summation of (x - X)^2,\n",
        "                             # where x is each value of col,\n",
        "                             # and X is the mean value of col\n",
        "\n",
        "    # iteratively adding (x - X)^2\n",
        "    for value in saldf[col]:\n",
        "        sum_of_squared_diffs += (value - mean)**2\n",
        "\n",
        "    var = sum_of_squared_diffs/(len(saldf[col])-1) # variance value of col\n",
        "    stdev = (var)**0.5 # standard deviation of col\n",
        "    return stdev # returning the stnadard deviation"
      ],
      "metadata": {
        "id": "I3Ye-T8pJdpw"
      },
      "execution_count": 20,
      "outputs": []
    },
    {
      "cell_type": "code",
      "source": [
        "def calc_stdev(): # ENTRY FUNCTION\n",
        "    \"\"\"\n",
        "    Purpose:\n",
        "        Calculates standard deviation of a user-entered numeric column of a DataFrame\n",
        "\n",
        "    Parameters:\n",
        "        none\n",
        "\n",
        "    Returns:\n",
        "        standard deviation\n",
        "    \"\"\"\n",
        "\n",
        "    # taking input column and verifying that it exists and is numeric\n",
        "    col = verify_input_column(\"Enter a column: \")\n",
        "    stdev = calc_arg_stdev(col) # calculating standard deviation value\n",
        "    return stdev # returns the standard deviation value"
      ],
      "metadata": {
        "id": "uG70vg99h8Ze"
      },
      "execution_count": 21,
      "outputs": []
    },
    {
      "cell_type": "code",
      "source": [
        "# col = 'salary_in_usd'\n",
        "\n",
        "# print(\"Standard Deviation:\", calc_stdev()) # input-taking function\n",
        "# print(\"Standard Deviation:\", calc_arg_stdev(col)) # argument-taking function\n",
        "# print(\"Standard Deviation:\", saldf[col].std()) # built-in function"
      ],
      "metadata": {
        "id": "n-tt65onh9gZ"
      },
      "execution_count": 22,
      "outputs": []
    },
    {
      "cell_type": "markdown",
      "source": [
        "Skewness Functions"
      ],
      "metadata": {
        "id": "AVrkb_eYCrVf"
      }
    },
    {
      "cell_type": "code",
      "source": [
        "# defining functions to calculate the skewness of all values in a column\n",
        "\n",
        "def calc_arg_skew(col):\n",
        "    \"\"\"\n",
        "    Purpose:\n",
        "        Calculates skewness value of the argument numeric column of a DataFrame\n",
        "\n",
        "    Parameters:\n",
        "        a numeric column\n",
        "\n",
        "    Returns:\n",
        "        skewness\n",
        "    \"\"\"\n",
        "\n",
        "    mean = calc_arg_mean(col) # mean value of col\n",
        "    median = calc_arg_median(col) # median value of col\n",
        "    std = calc_arg_stdev(col) # standard deviation of col\n",
        "    sum_of_cubed_diffs = 0 # summation of (x - X)^3,\n",
        "                           # where x is each value of col\n",
        "                           # and X is the mean value of col\n",
        "\n",
        "    # iteratively adding (x - X)^3 together\n",
        "    for value in saldf[col]:\n",
        "        sum_of_cubed_diffs += (value - mean)**3\n",
        "\n",
        "    denom = (len(saldf[col]) - 1) * (std**3) # denominator of the skewness formula\n",
        "    skewness = sum_of_cubed_diffs/denom # skweness value of col\n",
        "    return skewness # returning the skewness value"
      ],
      "metadata": {
        "id": "kxp4b-WLJgKB"
      },
      "execution_count": 23,
      "outputs": []
    },
    {
      "cell_type": "code",
      "source": [
        "def calc_skew(): # ENTRY FUNCTION\n",
        "    \"\"\"\n",
        "    Purpose:\n",
        "        Calculates skewness value of a user-entered numeric column of a DataFrame\n",
        "\n",
        "    Parameters:\n",
        "        none\n",
        "\n",
        "    Returns:\n",
        "        skewness\n",
        "    \"\"\"\n",
        "\n",
        "    # taking input column and verifying that it exists and is numeric\n",
        "    col = verify_input_column(\"Enter a column: \")\n",
        "    stdev = calc_arg_skew(col) # calculating skewness value\n",
        "    return stdev # returns the skewness value"
      ],
      "metadata": {
        "id": "c5_G8Auhi5t6"
      },
      "execution_count": 24,
      "outputs": []
    },
    {
      "cell_type": "code",
      "source": [
        "# col = 'salary_in_usd'\n",
        "\n",
        "# print(\"Skewness:\", calc_skew()) # input-taking function\n",
        "# print(\"Skewness:\", calc_arg_skew(col)) # argument-taking function\n",
        "# print(\"Skewness:\", saldf[col].skew()) # built-in function"
      ],
      "metadata": {
        "id": "liuNMsJRi6eZ"
      },
      "execution_count": 25,
      "outputs": []
    },
    {
      "cell_type": "markdown",
      "source": [
        "Kurtosis Functions"
      ],
      "metadata": {
        "id": "BszPnGpRCpzl"
      }
    },
    {
      "cell_type": "code",
      "source": [
        "# defining functions to calculate the kurtosis of all values in a column\n",
        "\n",
        "def calc_arg_kurt(col):\n",
        "    \"\"\"\n",
        "    Purpose:\n",
        "        Calculates kurtosis value of the argument numeric column of a DataFrame\n",
        "\n",
        "    Parameters:\n",
        "        a numeric column\n",
        "\n",
        "    Returns:\n",
        "        kurtosis\n",
        "    \"\"\"\n",
        "\n",
        "    std = calc_arg_stdev(col) # standard deviation of col\n",
        "    mean = calc_arg_mean(col) # mean value of col\n",
        "    sum_of_4th_powers = 0 # summation of (x - X)^4,\n",
        "                          # where x is each value of col1\n",
        "                          # and X is the mean value of col1\n",
        "\n",
        "    # iteratively adding (x - X)^4\n",
        "    for value in saldf[col]:\n",
        "        sum_of_4th_powers += (value - mean)**4\n",
        "\n",
        "    fourth_moment = sum_of_4th_powers/len(saldf[col]) # fourth moment value of col\n",
        "    kurt = fourth_moment/(std**4) # kurtosis value of col\n",
        "    return kurt-3 # returning the kurtosis value"
      ],
      "metadata": {
        "id": "7GZ2wNPhJib1"
      },
      "execution_count": 26,
      "outputs": []
    },
    {
      "cell_type": "code",
      "source": [
        "def calc_kurt(): # ENTRY FUNCTION\n",
        "    \"\"\"\n",
        "    Purpose:\n",
        "        Calculates kurtosis value of a user-entered numeric column of a DataFrame\n",
        "\n",
        "    Parameters:\n",
        "        none\n",
        "\n",
        "    Returns:\n",
        "        kurtosis\n",
        "    \"\"\"\n",
        "\n",
        "    # taking input column and verifying that it exists and is numeric\n",
        "    col = verify_input_column(\"Enter a column: \")\n",
        "    kurt = calc_arg_kurt(col) # calculating kurtosis value\n",
        "    return kurt # returns the kurtosis value"
      ],
      "metadata": {
        "id": "jt8aJBOBj2qT"
      },
      "execution_count": 27,
      "outputs": []
    },
    {
      "cell_type": "code",
      "source": [
        "# col = 'salary_in_usd'\n",
        "\n",
        "# print(\"Kurtosis:\", calc_kurt()) # input-taking function\n",
        "# print(\"Kurtosis:\", calc_arg_kurt(col)) # argument-taking function\n",
        "# print(\"Kurtosis:\", saldf[col].kurt()) # built-in function"
      ],
      "metadata": {
        "id": "3VFAEP5Lj5AY"
      },
      "execution_count": 28,
      "outputs": []
    },
    {
      "cell_type": "markdown",
      "source": [
        "Correlation Functions"
      ],
      "metadata": {
        "id": "K6whsnKvEebZ"
      }
    },
    {
      "cell_type": "code",
      "source": [
        "# defining functions to find the correlation between two numeric columns\n",
        "\n",
        "def calc_arg_corr(col1, col2):\n",
        "    \"\"\"\n",
        "    Purpose:\n",
        "        Calculates correlation value of the two argument numeric columns of a DataFrame\n",
        "\n",
        "    Parameters:\n",
        "        two numeric columns\n",
        "\n",
        "    Returns:\n",
        "        correlation\n",
        "    \"\"\"\n",
        "\n",
        "    col1_mean = calc_arg_mean(col1) # mean value of col1\n",
        "    col2_mean = calc_arg_mean(col2) # mean value of col2\n",
        "\n",
        "    col1_stdev = calc_arg_stdev(col1) # standard deviation of col1\n",
        "    col2_stdev = calc_arg_stdev(col2) # standard deviation of col2\n",
        "\n",
        "    sum_of_products = 0 # summation of (x - X) * (y - Y),\n",
        "                        # where x, y = each value of col1, col2 respectively,\n",
        "                        # and X, Y are the mean values of col1, col2 respectively\n",
        "\n",
        "    # iteratively adding (x - X) * (y - Y)\n",
        "    for i in range(len(saldf[col1])):\n",
        "        sum_of_products += (saldf[col1].iloc[i] - col1_mean) * (saldf[col2].iloc[i] - col2_mean)\n",
        "\n",
        "    covar = sum_of_products/(len(saldf[col1]) - 1) # covariance between col1 and col2\n",
        "    corr = covar/(col1_stdev * col2_stdev) # correlation between col1 and col2\n",
        "    return corr # returning the correlation value"
      ],
      "metadata": {
        "id": "_BfsNt_tswhy"
      },
      "execution_count": 29,
      "outputs": []
    },
    {
      "cell_type": "code",
      "source": [
        "def calc_corr(): # ENTRY FUNCTION\n",
        "    \"\"\"\n",
        "    Purpose:\n",
        "        Calculates correlation value of two user-entered numeric columns of a DataFrame\n",
        "\n",
        "    Parameters:\n",
        "        none\n",
        "\n",
        "    Returns:\n",
        "        correlation\n",
        "    \"\"\"\n",
        "\n",
        "    # taking input column and verifying that it exists and is numeric\n",
        "    col1 = verify_input_column(\"Enter the first column: \")\n",
        "    col2 = verify_input_column(\"Enter the second column: \")\n",
        "    corr = calc_arg_corr(col1, col2) # calculating correlation value\n",
        "    return corr # returns the correlation value"
      ],
      "metadata": {
        "id": "Nz5FKP0-kplK"
      },
      "execution_count": 30,
      "outputs": []
    },
    {
      "cell_type": "code",
      "source": [
        "# col1 = 'salary_in_usd'\n",
        "# col2 = 'remote_ratio'\n",
        "\n",
        "# print(\"Correlation:\", calc_corr()) # input-taking function\n",
        "# print(\"Correlation:\", calc_arg_corr(col1, col2)) # argument-taking function\n",
        "# print(\"Correlation:\", saldf[col1].corr(saldf[col2])) # built-in function"
      ],
      "metadata": {
        "id": "tK1c9hphksV-"
      },
      "execution_count": 31,
      "outputs": []
    },
    {
      "cell_type": "markdown",
      "source": [
        "# Data Exploration"
      ],
      "metadata": {
        "id": "MQE22-c6Ykrh"
      }
    },
    {
      "cell_type": "markdown",
      "source": [
        "Finding out the top 15 jobs"
      ],
      "metadata": {
        "id": "ZZjiebieEidp"
      }
    },
    {
      "cell_type": "code",
      "source": [
        "# finding out the top 15 jobs\n",
        "saldf['job_title'].value_counts().head(15)"
      ],
      "metadata": {
        "id": "Mo4EW9JaYnwm",
        "collapsed": true,
        "colab": {
          "base_uri": "https://localhost:8080/"
        },
        "outputId": "29e3471e-253a-4962-fe5f-3edf785e3422"
      },
      "execution_count": 32,
      "outputs": [
        {
          "output_type": "execute_result",
          "data": {
            "text/plain": [
              "job_title\n",
              "Data Engineer                 1040\n",
              "Data Scientist                 840\n",
              "Data Analyst                   612\n",
              "Machine Learning Engineer      289\n",
              "Analytics Engineer             103\n",
              "Data Architect                 101\n",
              "Research Scientist              82\n",
              "Data Science Manager            58\n",
              "Applied Scientist               58\n",
              "Research Engineer               37\n",
              "ML Engineer                     34\n",
              "Data Manager                    29\n",
              "Machine Learning Scientist      26\n",
              "Data Science Consultant         24\n",
              "Data Analytics Manager          22\n",
              "Name: count, dtype: int64"
            ]
          },
          "metadata": {},
          "execution_count": 32
        }
      ]
    },
    {
      "cell_type": "markdown",
      "source": [
        "Finding the job with the highest salaries"
      ],
      "metadata": {
        "id": "0Z2ry0bZTB-6"
      }
    },
    {
      "cell_type": "code",
      "source": [
        "# finding the job with the highest salaries\n",
        "job_sals = saldf.groupby(saldf[\"job_title\"])[\"salary_in_usd\"].mean().sort_values(ascending=False).head(10)\n",
        "job_sals.plot(kind=\"barh\")\n",
        "plt.xlabel(\"Average Salaries\")\n",
        "plt.ylabel(\"Jobs\")\n",
        "plt.xlim(0,400000)"
      ],
      "metadata": {
        "id": "a5k3TMHVSVns",
        "colab": {
          "base_uri": "https://localhost:8080/",
          "height": 466
        },
        "outputId": "e1bc7e01-b2ac-450b-f7b7-9b6ab6470348"
      },
      "execution_count": 33,
      "outputs": [
        {
          "output_type": "execute_result",
          "data": {
            "text/plain": [
              "(0.0, 400000.0)"
            ]
          },
          "metadata": {},
          "execution_count": 33
        },
        {
          "output_type": "display_data",
          "data": {
            "text/plain": [
              "<Figure size 640x480 with 1 Axes>"
            ],
            "image/png": "[encoded data removed]"
          },
          "metadata": {}
        }
      ]
    },
    {
      "cell_type": "markdown",
      "source": [
        "Finding out the salaries based on the experience levels"
      ],
      "metadata": {
        "id": "0006m9AJhhSB"
      }
    },
    {
      "cell_type": "code",
      "source": [
        "# finding out the salaries based on the experience levels\n",
        "explvl_sals = saldf.groupby(saldf[\"experience_level\"])[\"salary_in_usd\"].mean().sort_values(ascending=False).head(10)\n",
        "plt.figure(figsize = (6,2))\n",
        "explvl_sals.plot(kind=\"barh\")\n",
        "plt.ylabel(\"Experience Levels\")\n",
        "plt.xlabel(\"Salaries\")"
      ],
      "metadata": {
        "id": "4Kbr8Ta9WM4Q",
        "colab": {
          "base_uri": "https://localhost:8080/",
          "height": 251
        },
        "outputId": "a465fb3d-92e9-41a2-aa53-14cc6847dc6d"
      },
      "execution_count": 34,
      "outputs": [
        {
          "output_type": "execute_result",
          "data": {
            "text/plain": [
              "Text(0.5, 0, 'Salaries')"
            ]
          },
          "metadata": {},
          "execution_count": 34
        },
        {
          "output_type": "display_data",
          "data": {
            "text/plain": [
              "<Figure size 600x200 with 1 Axes>"
            ],
            "image/png": "[encoded data removed]"
          },
          "metadata": {}
        }
      ]
    },
    {
      "cell_type": "markdown",
      "source": [
        "Showing the histogram of the values of 'work_year' column"
      ],
      "metadata": {
        "id": "LTc8JXgGh8jC"
      }
    },
    {
      "cell_type": "code",
      "source": [
        "# showing the histogram of the values of 'work_year' column\n",
        "plt.figure(figsize=(4,4))\n",
        "saldf[\"work_year\"].plot(kind=\"hist\")\n",
        "plt.xlabel(\"Work Years\")\n",
        "plt.xticks(np.arange(2020,2024))\n",
        "# saldf"
      ],
      "metadata": {
        "id": "gt_ukX9HiHtV",
        "colab": {
          "base_uri": "https://localhost:8080/",
          "height": 527
        },
        "outputId": "ab1a84dc-4c92-4694-e3e7-37921d49f6fe"
      },
      "execution_count": 35,
      "outputs": [
        {
          "output_type": "execute_result",
          "data": {
            "text/plain": [
              "([<matplotlib.axis.XTick at 0x7a7a8686d6c0>,\n",
              "  <matplotlib.axis.XTick at 0x7a7a8686d690>,\n",
              "  <matplotlib.axis.XTick at 0x7a7a86889210>,\n",
              "  <matplotlib.axis.XTick at 0x7a7a8688af80>],\n",
              " [Text(2020, 0, '2020'),\n",
              "  Text(2021, 0, '2021'),\n",
              "  Text(2022, 0, '2022'),\n",
              "  Text(2023, 0, '2023')])"
            ]
          },
          "metadata": {},
          "execution_count": 35
        },
        {
          "output_type": "display_data",
          "data": {
            "text/plain": [
              "<Figure size 400x400 with 1 Axes>"
            ],
            "image/png": "[encoded data removed]"
          },
          "metadata": {}
        }
      ]
    },
    {
      "cell_type": "markdown",
      "source": [
        "SHowing the boxplot of the values of 'salary_in_usd' column"
      ],
      "metadata": {
        "id": "JtByxO1tlZsC"
      }
    },
    {
      "cell_type": "code",
      "source": [
        "# showing the boxplot of the values of 'salary_in_usd' column\n",
        "sals = saldf[\"salary_in_usd\"]\n",
        "plt.boxplot(sals, vert=False)\n",
        "plt.xlabel(\"Salaries in USD\")"
      ],
      "metadata": {
        "id": "bJl7B28uliM7",
        "colab": {
          "base_uri": "https://localhost:8080/",
          "height": 466
        },
        "outputId": "4f917471-27d3-499c-b931-555f314c4839"
      },
      "execution_count": 36,
      "outputs": [
        {
          "output_type": "execute_result",
          "data": {
            "text/plain": [
              "Text(0.5, 0, 'Salaries in USD')"
            ]
          },
          "metadata": {},
          "execution_count": 36
        },
        {
          "output_type": "display_data",
          "data": {
            "text/plain": [
              "<Figure size 640x480 with 1 Axes>"
            ],
            "image/png": "[encoded data removed]"
          },
          "metadata": {}
        }
      ]
    }
  ]
}